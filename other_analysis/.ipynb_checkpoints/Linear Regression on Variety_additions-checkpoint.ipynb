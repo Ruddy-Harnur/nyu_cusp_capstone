{
 "cells": [
  {
   "cell_type": "markdown",
   "metadata": {},
   "source": [
    "# Linear Regression on Variety Metric"
   ]
  },
  {
   "cell_type": "markdown",
   "metadata": {},
   "source": [
    "Input file: RiskInputModel.csv, containing 5 risk metrics"
   ]
  },
  {
   "cell_type": "code",
   "execution_count": 1,
   "metadata": {},
   "outputs": [],
   "source": [
    "import pandas as pd\n",
    "import numpy as np\n",
    "import statsmodels.formula.api as smf\n",
    "import matplotlib.pylab as plt\n",
    "import math\n",
    "from scipy import stats\n",
    "import geopandas as gpd\n",
    "import seaborn as sns\n",
    "%matplotlib inline"
   ]
  },
  {
   "cell_type": "code",
   "execution_count": 2,
   "metadata": {},
   "outputs": [],
   "source": [
    "rim = pd.read_csv('RiskInputModel.csv')"
   ]
  },
  {
   "cell_type": "code",
   "execution_count": 3,
   "metadata": {},
   "outputs": [
    {
     "data": {
      "text/html": [
       "<div>\n",
       "<style scoped>\n",
       "    .dataframe tbody tr th:only-of-type {\n",
       "        vertical-align: middle;\n",
       "    }\n",
       "\n",
       "    .dataframe tbody tr th {\n",
       "        vertical-align: top;\n",
       "    }\n",
       "\n",
       "    .dataframe thead th {\n",
       "        text-align: right;\n",
       "    }\n",
       "</style>\n",
       "<table border=\"1\" class=\"dataframe\">\n",
       "  <thead>\n",
       "    <tr style=\"text-align: right;\">\n",
       "      <th></th>\n",
       "      <th>Neighborhood</th>\n",
       "      <th>BusinessLossMetric</th>\n",
       "      <th>StaffCancellationMetric</th>\n",
       "      <th>VenuesPer1kMetric</th>\n",
       "      <th>OLS_PCT_Metric</th>\n",
       "      <th>VarietyMetric</th>\n",
       "    </tr>\n",
       "  </thead>\n",
       "  <tbody>\n",
       "    <tr>\n",
       "      <td>0</td>\n",
       "      <td>Astoria/LIC</td>\n",
       "      <td>1.104798</td>\n",
       "      <td>0.333849</td>\n",
       "      <td>0.199923</td>\n",
       "      <td>-1.261206</td>\n",
       "      <td>0.598250</td>\n",
       "    </tr>\n",
       "    <tr>\n",
       "      <td>1</td>\n",
       "      <td>Bed-Stuy</td>\n",
       "      <td>0.725636</td>\n",
       "      <td>0.333849</td>\n",
       "      <td>-0.198551</td>\n",
       "      <td>1.005571</td>\n",
       "      <td>0.490202</td>\n",
       "    </tr>\n",
       "    <tr>\n",
       "      <td>2</td>\n",
       "      <td>Bed-Stuy/Bushwick</td>\n",
       "      <td>0.961647</td>\n",
       "      <td>0.333849</td>\n",
       "      <td>-0.592874</td>\n",
       "      <td>1.422584</td>\n",
       "      <td>0.042846</td>\n",
       "    </tr>\n",
       "    <tr>\n",
       "      <td>3</td>\n",
       "      <td>Williamsburg/Bushwick/Bed-Stuy</td>\n",
       "      <td>-0.549198</td>\n",
       "      <td>0.333849</td>\n",
       "      <td>-0.477378</td>\n",
       "      <td>1.046466</td>\n",
       "      <td>0.321021</td>\n",
       "    </tr>\n",
       "    <tr>\n",
       "      <td>4</td>\n",
       "      <td>Bushwick</td>\n",
       "      <td>0.673548</td>\n",
       "      <td>0.333849</td>\n",
       "      <td>-0.485231</td>\n",
       "      <td>0.885349</td>\n",
       "      <td>-0.694534</td>\n",
       "    </tr>\n",
       "  </tbody>\n",
       "</table>\n",
       "</div>"
      ],
      "text/plain": [
       "                     Neighborhood  BusinessLossMetric  \\\n",
       "0                     Astoria/LIC            1.104798   \n",
       "1                        Bed-Stuy            0.725636   \n",
       "2               Bed-Stuy/Bushwick            0.961647   \n",
       "3  Williamsburg/Bushwick/Bed-Stuy           -0.549198   \n",
       "4                        Bushwick            0.673548   \n",
       "\n",
       "   StaffCancellationMetric  VenuesPer1kMetric  OLS_PCT_Metric  VarietyMetric  \n",
       "0                 0.333849           0.199923       -1.261206       0.598250  \n",
       "1                 0.333849          -0.198551        1.005571       0.490202  \n",
       "2                 0.333849          -0.592874        1.422584       0.042846  \n",
       "3                 0.333849          -0.477378        1.046466       0.321021  \n",
       "4                 0.333849          -0.485231        0.885349      -0.694534  "
      ]
     },
     "execution_count": 3,
     "metadata": {},
     "output_type": "execute_result"
    }
   ],
   "source": [
    "rim.head()"
   ]
  },
  {
   "cell_type": "code",
   "execution_count": 24,
   "metadata": {},
   "outputs": [
    {
     "data": {
      "text/plain": [
       "0     0.598250\n",
       "1     0.490202\n",
       "2     0.042846\n",
       "3     0.321021\n",
       "4    -0.694534\n",
       "5     1.121903\n",
       "6     0.490202\n",
       "7    -3.064004\n",
       "8     0.161319\n",
       "9    -0.102166\n",
       "10    0.546595\n",
       "11    0.433808\n",
       "12    0.095448\n",
       "13   -0.920107\n",
       "14   -0.242913\n",
       "15   -0.694534\n",
       "16    1.416665\n",
       "Name: VarietyMetric, dtype: float64"
      ]
     },
     "execution_count": 24,
     "metadata": {},
     "output_type": "execute_result"
    }
   ],
   "source": [
    "rim.VarietyMetric"
   ]
  },
  {
   "cell_type": "code",
   "execution_count": null,
   "metadata": {},
   "outputs": [],
   "source": [
    "# all of these p values are > 0.05 so we can't reject the null hypothesis (null hypothesis = coefficient is equal to zero, aka no effect)"
   ]
  },
  {
   "cell_type": "code",
   "execution_count": 8,
   "metadata": {},
   "outputs": [
    {
     "data": {
      "text/plain": [
       "Index(['Neighborhood', 'BusinessLossMetric', 'StaffCancellationMetric',\n",
       "       'VenuesPer1kMetric', 'OLS_PCT_Metric', 'VarietyMetric'],\n",
       "      dtype='object')"
      ]
     },
     "execution_count": 8,
     "metadata": {},
     "output_type": "execute_result"
    }
   ],
   "source": [
    "rim.columns"
   ]
  },
  {
   "cell_type": "markdown",
   "metadata": {},
   "source": [
    "## Correlation Matrix"
   ]
  },
  {
   "cell_type": "code",
   "execution_count": 10,
   "metadata": {},
   "outputs": [
    {
     "data": {
      "text/plain": [
       "<matplotlib.axes._subplots.AxesSubplot at 0x1a21ed27d0>"
      ]
     },
     "execution_count": 10,
     "metadata": {},
     "output_type": "execute_result"
    },
    {
     "data": {
      "image/png": "[encoded data removed]",
      "text/plain": [
       "<Figure size 432x288 with 2 Axes>"
      ]
     },
     "metadata": {
      "needs_background": "light"
     },
     "output_type": "display_data"
    }
   ],
   "source": [
    "# full correlation matrix\n",
    "corr = rim.corr()\n",
    "sns.heatmap(corr, \n",
    "            xticklabels=corr.columns.values,\n",
    "            yticklabels=corr.columns.values)\n",
    "# based on these results, trying a linear regression without staff cancellations"
   ]
  },
  {
   "cell_type": "markdown",
   "metadata": {},
   "source": [
    "## Linear model: \n",
    "### VarietyMetric ~ BusinessLossMetric + VenuesPer1kMetric + OLS_PCT_Metric"
   ]
  },
  {
   "cell_type": "code",
   "execution_count": 1,
   "metadata": {},
   "outputs": [],
   "source": [
    "# Disregard features w low correlation w target variable and it's recommended to drop features that are highly correlated w each other, e.g. business loss and staff cancelations. "
   ]
  },
  {
   "cell_type": "code",
   "execution_count": 11,
   "metadata": {},
   "outputs": [],
   "source": [
    "lm_2 = smf.ols(formula='VarietyMetric~BusinessLossMetric+VenuesPer1kMetric+OLS_PCT_Metric', data = rim).fit()"
   ]
  },
  {
   "cell_type": "code",
   "execution_count": 12,
   "metadata": {},
   "outputs": [
    {
     "name": "stdout",
     "output_type": "stream",
     "text": [
      "                            OLS Regression Results                            \n",
      "==============================================================================\n",
      "Dep. Variable:          VarietyMetric   R-squared:                       0.253\n",
      "Model:                            OLS   Adj. R-squared:                  0.081\n",
      "Method:                 Least Squares   F-statistic:                     1.469\n",
      "Date:                Fri, 19 Jun 2020   Prob (F-statistic):              0.269\n",
      "Time:                        22:56:59   Log-Likelihood:                -21.125\n",
      "No. Observations:                  17   AIC:                             50.25\n",
      "Df Residuals:                      13   BIC:                             53.58\n",
      "Df Model:                           3                                         \n",
      "Covariance Type:            nonrobust                                         \n",
      "======================================================================================\n",
      "                         coef    std err          t      P>|t|      [0.025      0.975]\n",
      "--------------------------------------------------------------------------------------\n",
      "Intercept           5.551e-17      0.233   2.39e-16      1.000      -0.502       0.502\n",
      "BusinessLossMetric     0.3157      0.256      1.231      0.240      -0.238       0.870\n",
      "VenuesPer1kMetric      0.2395      0.254      0.943      0.363      -0.309       0.788\n",
      "OLS_PCT_Metric         0.1819      0.242      0.750      0.466      -0.342       0.706\n",
      "==============================================================================\n",
      "Omnibus:                       16.854   Durbin-Watson:                   2.415\n",
      "Prob(Omnibus):                  0.000   Jarque-Bera (JB):               15.695\n",
      "Skew:                          -1.752   Prob(JB):                     0.000391\n",
      "Kurtosis:                       6.143   Cond. No.                         1.45\n",
      "==============================================================================\n",
      "\n",
      "Warnings:\n",
      "[1] Standard Errors assume that the covariance matrix of the errors is correctly specified.\n"
     ]
    }
   ],
   "source": [
    "print(lm_2.summary())"
   ]
  },
  {
   "cell_type": "code",
   "execution_count": 17,
   "metadata": {},
   "outputs": [],
   "source": [
    "# compare to sklearn's linear regression\n",
    "from sklearn.linear_model import LinearRegression"
   ]
  },
  {
   "cell_type": "code",
   "execution_count": 20,
   "metadata": {},
   "outputs": [
    {
     "data": {
      "text/plain": [
       "LinearRegression(copy_X=True, fit_intercept=True, n_jobs=None, normalize=False)"
      ]
     },
     "execution_count": 20,
     "metadata": {},
     "output_type": "execute_result"
    }
   ],
   "source": [
    "lr = LinearRegression()\n",
    "lr.fit(rim[['BusinessLossMetric', 'StaffCancellationMetric','VenuesPer1kMetric', 'OLS_PCT_Metric']],rim['VarietyMetric'])"
   ]
  },
  {
   "cell_type": "code",
   "execution_count": 21,
   "metadata": {},
   "outputs": [
    {
     "data": {
      "text/plain": [
       "array([ 0.51793727, -0.30826372,  0.22293413,  0.25199882])"
      ]
     },
     "execution_count": 21,
     "metadata": {},
     "output_type": "execute_result"
    }
   ],
   "source": [
    "# same coefficients as statsmodels\n",
    "lr.coef_"
   ]
  },
  {
   "cell_type": "code",
   "execution_count": 23,
   "metadata": {},
   "outputs": [
    {
     "data": {
      "text/plain": [
       "0.3004772238064696"
      ]
     },
     "execution_count": 23,
     "metadata": {},
     "output_type": "execute_result"
    }
   ],
   "source": [
    "# R2 value\n",
    "lr.score(rim[['BusinessLossMetric', 'StaffCancellationMetric','VenuesPer1kMetric', 'OLS_PCT_Metric']],rim['VarietyMetric'])"
   ]
  },
  {
   "cell_type": "markdown",
   "metadata": {},
   "source": [
    "### Statsmodels linear regression without neighborhood 7 (outlier)"
   ]
  },
  {
   "cell_type": "code",
   "execution_count": 26,
   "metadata": {},
   "outputs": [],
   "source": [
    "rim_without7 = rim.drop([0,7])"
   ]
  },
  {
   "cell_type": "code",
   "execution_count": 28,
   "metadata": {},
   "outputs": [
    {
     "data": {
      "text/html": [
       "<div>\n",
       "<style scoped>\n",
       "    .dataframe tbody tr th:only-of-type {\n",
       "        vertical-align: middle;\n",
       "    }\n",
       "\n",
       "    .dataframe tbody tr th {\n",
       "        vertical-align: top;\n",
       "    }\n",
       "\n",
       "    .dataframe thead th {\n",
       "        text-align: right;\n",
       "    }\n",
       "</style>\n",
       "<table border=\"1\" class=\"dataframe\">\n",
       "  <thead>\n",
       "    <tr style=\"text-align: right;\">\n",
       "      <th></th>\n",
       "      <th>Neighborhood</th>\n",
       "      <th>BusinessLossMetric</th>\n",
       "      <th>StaffCancellationMetric</th>\n",
       "      <th>VenuesPer1kMetric</th>\n",
       "      <th>OLS_PCT_Metric</th>\n",
       "      <th>VarietyMetric</th>\n",
       "    </tr>\n",
       "  </thead>\n",
       "  <tbody>\n",
       "    <tr>\n",
       "      <td>1</td>\n",
       "      <td>Bed-Stuy</td>\n",
       "      <td>0.725636</td>\n",
       "      <td>0.333849</td>\n",
       "      <td>-0.198551</td>\n",
       "      <td>1.005571</td>\n",
       "      <td>0.490202</td>\n",
       "    </tr>\n",
       "    <tr>\n",
       "      <td>2</td>\n",
       "      <td>Bed-Stuy/Bushwick</td>\n",
       "      <td>0.961647</td>\n",
       "      <td>0.333849</td>\n",
       "      <td>-0.592874</td>\n",
       "      <td>1.422584</td>\n",
       "      <td>0.042846</td>\n",
       "    </tr>\n",
       "    <tr>\n",
       "      <td>3</td>\n",
       "      <td>Williamsburg/Bushwick/Bed-Stuy</td>\n",
       "      <td>-0.549198</td>\n",
       "      <td>0.333849</td>\n",
       "      <td>-0.477378</td>\n",
       "      <td>1.046466</td>\n",
       "      <td>0.321021</td>\n",
       "    </tr>\n",
       "    <tr>\n",
       "      <td>4</td>\n",
       "      <td>Bushwick</td>\n",
       "      <td>0.673548</td>\n",
       "      <td>0.333849</td>\n",
       "      <td>-0.485231</td>\n",
       "      <td>0.885349</td>\n",
       "      <td>-0.694534</td>\n",
       "    </tr>\n",
       "    <tr>\n",
       "      <td>5</td>\n",
       "      <td>Chelsea</td>\n",
       "      <td>1.318044</td>\n",
       "      <td>0.333849</td>\n",
       "      <td>3.484530</td>\n",
       "      <td>-0.488772</td>\n",
       "      <td>1.121903</td>\n",
       "    </tr>\n",
       "    <tr>\n",
       "      <td>6</td>\n",
       "      <td>Elmhurst</td>\n",
       "      <td>-0.289247</td>\n",
       "      <td>0.333849</td>\n",
       "      <td>-0.732791</td>\n",
       "      <td>-1.324911</td>\n",
       "      <td>0.490202</td>\n",
       "    </tr>\n",
       "    <tr>\n",
       "      <td>8</td>\n",
       "      <td>Greenpoint</td>\n",
       "      <td>-1.050006</td>\n",
       "      <td>0.333849</td>\n",
       "      <td>0.517974</td>\n",
       "      <td>1.584178</td>\n",
       "      <td>0.161319</td>\n",
       "    </tr>\n",
       "    <tr>\n",
       "      <td>9</td>\n",
       "      <td>Harlem</td>\n",
       "      <td>-0.777677</td>\n",
       "      <td>0.333849</td>\n",
       "      <td>-0.520137</td>\n",
       "      <td>0.425367</td>\n",
       "      <td>-0.102166</td>\n",
       "    </tr>\n",
       "    <tr>\n",
       "      <td>10</td>\n",
       "      <td>Inwood</td>\n",
       "      <td>0.442643</td>\n",
       "      <td>0.333849</td>\n",
       "      <td>-0.538435</td>\n",
       "      <td>-0.213008</td>\n",
       "      <td>0.546595</td>\n",
       "    </tr>\n",
       "    <tr>\n",
       "      <td>11</td>\n",
       "      <td>Jackson Heights</td>\n",
       "      <td>-0.001058</td>\n",
       "      <td>0.333849</td>\n",
       "      <td>-0.137493</td>\n",
       "      <td>-0.075851</td>\n",
       "      <td>0.433808</td>\n",
       "    </tr>\n",
       "    <tr>\n",
       "      <td>12</td>\n",
       "      <td>LIC</td>\n",
       "      <td>-0.929477</td>\n",
       "      <td>-1.557962</td>\n",
       "      <td>-0.374476</td>\n",
       "      <td>-1.229219</td>\n",
       "      <td>0.095448</td>\n",
       "    </tr>\n",
       "    <tr>\n",
       "      <td>13</td>\n",
       "      <td>LES</td>\n",
       "      <td>-0.682535</td>\n",
       "      <td>0.333849</td>\n",
       "      <td>0.752236</td>\n",
       "      <td>-0.239837</td>\n",
       "      <td>-0.920107</td>\n",
       "    </tr>\n",
       "    <tr>\n",
       "      <td>14</td>\n",
       "      <td>Ridgewood</td>\n",
       "      <td>0.800807</td>\n",
       "      <td>0.333849</td>\n",
       "      <td>-0.411646</td>\n",
       "      <td>-0.873188</td>\n",
       "      <td>-0.242913</td>\n",
       "    </tr>\n",
       "    <tr>\n",
       "      <td>15</td>\n",
       "      <td>South Bronx</td>\n",
       "      <td>-2.365455</td>\n",
       "      <td>-3.449772</td>\n",
       "      <td>-0.471449</td>\n",
       "      <td>-0.725374</td>\n",
       "      <td>-0.694534</td>\n",
       "    </tr>\n",
       "    <tr>\n",
       "      <td>16</td>\n",
       "      <td>Williamsburg</td>\n",
       "      <td>1.047538</td>\n",
       "      <td>0.333849</td>\n",
       "      <td>0.483447</td>\n",
       "      <td>1.005733</td>\n",
       "      <td>1.416665</td>\n",
       "    </tr>\n",
       "  </tbody>\n",
       "</table>\n",
       "</div>"
      ],
      "text/plain": [
       "                      Neighborhood  BusinessLossMetric  \\\n",
       "1                         Bed-Stuy            0.725636   \n",
       "2                Bed-Stuy/Bushwick            0.961647   \n",
       "3   Williamsburg/Bushwick/Bed-Stuy           -0.549198   \n",
       "4                         Bushwick            0.673548   \n",
       "5                          Chelsea            1.318044   \n",
       "6                         Elmhurst           -0.289247   \n",
       "8                       Greenpoint           -1.050006   \n",
       "9                           Harlem           -0.777677   \n",
       "10                          Inwood            0.442643   \n",
       "11                 Jackson Heights           -0.001058   \n",
       "12                             LIC           -0.929477   \n",
       "13                             LES           -0.682535   \n",
       "14                       Ridgewood            0.800807   \n",
       "15                     South Bronx           -2.365455   \n",
       "16                    Williamsburg            1.047538   \n",
       "\n",
       "    StaffCancellationMetric  VenuesPer1kMetric  OLS_PCT_Metric  VarietyMetric  \n",
       "1                  0.333849          -0.198551        1.005571       0.490202  \n",
       "2                  0.333849          -0.592874        1.422584       0.042846  \n",
       "3                  0.333849          -0.477378        1.046466       0.321021  \n",
       "4                  0.333849          -0.485231        0.885349      -0.694534  \n",
       "5                  0.333849           3.484530       -0.488772       1.121903  \n",
       "6                  0.333849          -0.732791       -1.324911       0.490202  \n",
       "8                  0.333849           0.517974        1.584178       0.161319  \n",
       "9                  0.333849          -0.520137        0.425367      -0.102166  \n",
       "10                 0.333849          -0.538435       -0.213008       0.546595  \n",
       "11                 0.333849          -0.137493       -0.075851       0.433808  \n",
       "12                -1.557962          -0.374476       -1.229219       0.095448  \n",
       "13                 0.333849           0.752236       -0.239837      -0.920107  \n",
       "14                 0.333849          -0.411646       -0.873188      -0.242913  \n",
       "15                -3.449772          -0.471449       -0.725374      -0.694534  \n",
       "16                 0.333849           0.483447        1.005733       1.416665  "
      ]
     },
     "execution_count": 28,
     "metadata": {},
     "output_type": "execute_result"
    }
   ],
   "source": [
    "rim_without7"
   ]
  },
  {
   "cell_type": "code",
   "execution_count": 29,
   "metadata": {},
   "outputs": [],
   "source": [
    "lm_3 = smf.ols(formula='VarietyMetric~BusinessLossMetric+StaffCancellationMetric+VenuesPer1kMetric+OLS_PCT_Metric', data = rim_without7).fit()"
   ]
  },
  {
   "cell_type": "code",
   "execution_count": 31,
   "metadata": {
    "scrolled": true
   },
   "outputs": [
    {
     "name": "stdout",
     "output_type": "stream",
     "text": [
      "                            OLS Regression Results                            \n",
      "==============================================================================\n",
      "Dep. Variable:          VarietyMetric   R-squared:                       0.329\n",
      "Model:                            OLS   Adj. R-squared:                  0.061\n",
      "Method:                 Least Squares   F-statistic:                     1.227\n",
      "Date:                Fri, 19 Jun 2020   Prob (F-statistic):              0.359\n",
      "Time:                        23:40:00   Log-Likelihood:                -11.225\n",
      "No. Observations:                  15   AIC:                             32.45\n",
      "Df Residuals:                      10   BIC:                             35.99\n",
      "Df Model:                           4                                         \n",
      "Covariance Type:            nonrobust                                         \n",
      "===========================================================================================\n",
      "                              coef    std err          t      P>|t|      [0.025      0.975]\n",
      "-------------------------------------------------------------------------------------------\n",
      "Intercept                   0.1714      0.165      1.039      0.323      -0.196       0.539\n",
      "BusinessLossMetric          0.2782      0.237      1.175      0.267      -0.249       0.806\n",
      "StaffCancellationMetric    -0.0014      0.233     -0.006      0.995      -0.521       0.518\n",
      "VenuesPer1kMetric           0.1534      0.168      0.913      0.383      -0.221       0.528\n",
      "OLS_PCT_Metric              0.0161      0.191      0.084      0.934      -0.408       0.441\n",
      "==============================================================================\n",
      "Omnibus:                        1.778   Durbin-Watson:                   1.807\n",
      "Prob(Omnibus):                  0.411   Jarque-Bera (JB):                1.090\n",
      "Skew:                          -0.648   Prob(JB):                        0.580\n",
      "Kurtosis:                       2.742   Cond. No.                         2.69\n",
      "==============================================================================\n",
      "\n",
      "Warnings:\n",
      "[1] Standard Errors assume that the covariance matrix of the errors is correctly specified.\n"
     ]
    },
    {
     "name": "stderr",
     "output_type": "stream",
     "text": [
      "/Users/cmvandev/opt/anaconda3/lib/python3.7/site-packages/scipy/stats/stats.py:1450: UserWarning: kurtosistest only valid for n>=20 ... continuing anyway, n=15\n",
      "  \"anyway, n=%i\" % int(n))\n"
     ]
    }
   ],
   "source": [
    "print(lm_3.summary())"
   ]
  },
  {
   "cell_type": "code",
   "execution_count": 32,
   "metadata": {},
   "outputs": [
    {
     "data": {
      "image/png": "[encoded data removed]",
      "text/plain": [
       "<Figure size 432x288 with 1 Axes>"
      ]
     },
     "metadata": {
      "needs_background": "light"
     },
     "output_type": "display_data"
    }
   ],
   "source": [
    "#creating predicted values for regression plot\n",
    "rim_without7['Predictions'] = lm_3.predict()\n",
    "\n",
    "rim_without7[['VarietyMetric','Predictions']].head()\n",
    "\n",
    "#Plotting the multi-variate regression\n",
    "fig, ax = plt.subplots()\n",
    "rim_without7.plot(ax=ax,kind='scatter',x='Predictions',y='VarietyMetric') \n",
    "ax.plot(rim_without7.Predictions,rim_without7.Predictions,'r-');"
   ]
  }
 ],
 "metadata": {
  "kernelspec": {
   "display_name": "Python 3",
   "language": "python",
   "name": "python3"
  },
  "language_info": {
   "codemirror_mode": {
    "name": "ipython",
    "version": 3
   },
   "file_extension": ".py",
   "mimetype": "text/x-python",
   "name": "python",
   "nbconvert_exporter": "python",
   "pygments_lexer": "ipython3",
   "version": "3.7.4"
  }
 },
 "nbformat": 4,
 "nbformat_minor": 4
}
