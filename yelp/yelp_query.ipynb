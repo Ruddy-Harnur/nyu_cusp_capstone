{
 "cells": [
  {
   "cell_type": "markdown",
   "metadata": {},
   "source": [
    "# Yelp API Query"
   ]
  },
  {
   "cell_type": "markdown",
   "metadata": {},
   "source": [
    "Input requirements: Yelp API developers key, list of zip codes to query \n",
    "\n",
    "Output files: csv query results (create folder dedicated to storing .csv files)"
   ]
  },
  {
   "cell_type": "code",
   "execution_count": 1,
   "metadata": {
    "scrolled": true
   },
   "outputs": [],
   "source": [
    "import requests\n",
    "import json\n",
    "import numpy as np\n",
    "import pandas as pd\n",
    "\n",
    "def yelp_api_request(term, location, query_number):\n",
    "    \"\"\"term = 'nightlife' (string)\n",
    "        location = 'zipcode', 'neighborhood' (string)\n",
    "        query_number = round of query (1,2,3...) -> determines offset (integer)\n",
    "    \"\"\"\n",
    "    offset = (query_number - 1)*50 + 1 \n",
    "    #api_key= YOUR API KEY HERE\n",
    "    url='https://api.yelp.com/v3/businesses/search'\n",
    "    params={'term': term, 'location': location, 'limit': 50, 'offset': offset}\n",
    "    headers = {'Authorization': 'Bearer %s' % api_key} \n",
    "    req = requests.get(url, params=params, headers=headers)\n",
    "    json_data = req.json()\n",
    "    df = pd.DataFrame(json_data[\"businesses\"])\n",
    "    business_id = list(df['id'])\n",
    "    reviews_dataframe = pd.DataFrame()\n",
    "    list_of_reviews = []\n",
    "    new = pd.DataFrame(index=business_id, columns = ['rev1', 'rev2', 'rev3','hours'])\n",
    "    for id_ in business_id: #both businesses hours and reviews are queried by business ID\n",
    "        \n",
    "        # business hours\n",
    "        url_hours = \"https://api.yelp.com/v3/businesses/\" + id_ \n",
    "        req_hours = requests.get(url_hours, headers=headers)\n",
    "        json_hour_data = req_hours.json()\n",
    "        new.loc[id_]['hours'] = json_hour_data.get('hours')\n",
    "       \n",
    "        # reviews\n",
    "        list_of_reviews_for_each_business =[]\n",
    "        url_reviews=\"https://api.yelp.com/v3/businesses/\" + id_ + \"/reviews\"\n",
    "        req_reviews = requests.get(url_reviews, headers=headers)\n",
    "\n",
    "        try:\n",
    "            if req_reviews.json()['reviews'][0]['text']!= None and req_reviews.json()['reviews'][0]['text'] != '' :\n",
    "                list_of_reviews_for_each_business.append(req_reviews.json()['reviews'][0]['text'])\n",
    "        except:\n",
    "            list_of_reviews_for_each_business.append('No Review')\n",
    "\n",
    "        try:\n",
    "            if req_reviews.json()['reviews'][1]['text']!= None and req_reviews.json()['reviews'][1]['text'] != '' :\n",
    "                list_of_reviews_for_each_business.append(req_reviews.json()['reviews'][1]['text'])\n",
    "        except:\n",
    "            list_of_reviews_for_each_business.append('No Review')\n",
    "\n",
    "        try:\n",
    "            if req_reviews.json()['reviews'][2]['text']!= None and req_reviews.json()['reviews'][2]['text'] != '' :\n",
    "                list_of_reviews_for_each_business.append(req_reviews.json()['reviews'][2]['text'])\n",
    "        except:\n",
    "            list_of_reviews_for_each_business.append('No Review')\n",
    "\n",
    "        list_of_reviews.append(list_of_reviews_for_each_business)\n",
    "\n",
    "        new.loc[id_]['rev1'] = list_of_reviews_for_each_business[0]\n",
    "        new.loc[id_]['rev2'] = list_of_reviews_for_each_business[1]\n",
    "        new.loc[id_]['rev3'] = list_of_reviews_for_each_business[2]\n",
    "    \n",
    "\n",
    "    # merge business info and reviews dataframe on business ID\n",
    "    df_merged = df.merge(new, left_on = 'id', right_index = True)\n",
    "\n",
    "    file_name = '{}_{}_{}_yelp.csv'.format(term, location, query_number)\n",
    "\n",
    "\n",
    "    df_merged.to_csv(' '+file_name) # local folder to contain .csv query results"
   ]
  },
  {
   "cell_type": "markdown",
   "metadata": {},
   "source": [
    "### Notes - Query Procedure:\n",
    "\n",
    "Each Yelp API key retrieves a maximum of 1,000 entries per day. Thus, multiple API keys must be used and/or querying must be spaced out across several days. \n",
    "\n",
    "Each Yelp API query will return 50 results per request. Thus, each zip code will require multiple queries to be performed.\n",
    "\n",
    "To reduce the number of queries performed, subset the 'all_zipcodes' list into smaller chunks located in 'zipcode_list'.\n",
    "\n",
    "An error will be returned (zip code and query 'page' number) once there are no remaining venues to query for a specific zip code. At this point, the next zipcode listed in 'zipcode_list' will begin to query.\n"
   ]
  },
  {
   "cell_type": "code",
   "execution_count": 7,
   "metadata": {},
   "outputs": [
    {
     "name": "stdout",
     "output_type": "stream",
     "text": [
      "error - zip: 11222, page number: 20\n"
     ]
    }
   ],
   "source": [
    "all_zipcodes = ['11101','11102','11103','11105','11106','11104','11109','11120','11206','11211',\\\n",
    "                '11249','11207','11221','11237','10026','10027','10037','10030','10039','10001','10011',\\\n",
    "                '10018','10019','10020','10036','10002','10034','10040','10454','10455','10459','10474','11205',\\\n",
    "                '11216','11233','11238','11385','11386','10109','11373','11379','11372','11354','11355','11358','11222']\n",
    "\n",
    "zipcode_list = [] # subset of zip codes above\n",
    "\n",
    "for zc in zipcode_list:\n",
    "    for i in range(1,21):\n",
    "        try:\n",
    "            yelp_api_request('nightlife', zc, i)\n",
    "        except:\n",
    "            print(\"error - zip: {}, page number: {}\".format(zc, i))"
   ]
  },
  {
   "cell_type": "code",
   "execution_count": 3,
   "metadata": {},
   "outputs": [],
   "source": [
    "# To query one page of one individual zip code (instead of several), run this cell instead:\n",
    "\n",
    "yelp_api_request('nightlife', ZIPCODE (string), PAGENUMBER (integer))"
   ]
  }
 ],
 "metadata": {
  "kernelspec": {
   "display_name": "Python 3",
   "language": "python",
   "name": "python3"
  },
  "language_info": {
   "codemirror_mode": {
    "name": "ipython",
    "version": 3
   },
   "file_extension": ".py",
   "mimetype": "text/x-python",
   "name": "python",
   "nbconvert_exporter": "python",
   "pygments_lexer": "ipython3",
   "version": "3.7.4"
  }
 },
 "nbformat": 4,
 "nbformat_minor": 4
}
